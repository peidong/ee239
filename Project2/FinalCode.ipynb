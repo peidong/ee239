{
 "cells": [
  {
   "cell_type": "markdown",
   "metadata": {},
   "source": [
    "# Project 2 Code\n",
    "### Group Members: \n",
    "#### Jiayu Guo(504513188), Yitian Hu(904516321), Peidong Chen(204432674), Yang Yang(804522285)"
   ]
  },
  {
   "cell_type": "markdown",
   "metadata": {},
   "source": [
    "### Problem (a)"
   ]
  },
  {
   "cell_type": "code",
   "execution_count": 89,
   "metadata": {
    "collapsed": false
   },
   "outputs": [],
   "source": [
    "from sklearn.datasets import fetch_20newsgroups\n",
    "categories = ['comp.graphics','rec.autos']\n",
    "twenty_train = fetch_20newsgroups(subset='train', categories=categories, shuffle=True, random_state=42)\n",
    "twenty_test = fetch_20newsgroups(subset='test', categories=categories, shuffle=True, random_state=42)"
   ]
  },
  {
   "cell_type": "code",
   "execution_count": 90,
   "metadata": {
    "collapsed": true
   },
   "outputs": [],
   "source": [
    "from sklearn.feature_extraction.text import CountVectorizer\n",
    "def get_Number(fileName):\n",
    "    count_vect = CountVectorizer()\n",
    "    categories = [fileName]\n",
    "    comp_graphic_train = fetch_20newsgroups(subset='train', categories=categories)\n",
    "    comp_graphics_number = count_vect.fit_transform(comp_graphic_train.data)\n",
    "    #print(\"(number of documents, number of features) = (%s, %s) \" % comp_graphics_number.shape)\n",
    "    [r,v] = comp_graphics_number.shape\n",
    "    return r\n",
    "\n",
    "comp_graphics_number = get_Number('comp.graphics')\n",
    "comp_os_mswindows_misc_number = get_Number('comp.os.ms-windows.misc')\n",
    "comp_sys_ibm_pc_hardware_number = get_Number('comp.sys.ibm.pc.hardware')\n",
    "comp_sys_mac_hardware_number = get_Number('comp.sys.mac.hardware')\n",
    "rec_autos_number = get_Number('rec.autos')\n",
    "rec_motorcycles_number = get_Number('rec.motorcycles')\n",
    "rec_sport_baseball_number = get_Number('rec.sport.baseball')\n",
    "rec_sport_hockey_number = get_Number('rec.sport.hockey')"
   ]
  },
  {
   "cell_type": "code",
   "execution_count": 91,
   "metadata": {
    "collapsed": false
   },
   "outputs": [
    {
     "name": "stdout",
     "output_type": "stream",
     "text": [
      "Number of class is = 2343\n",
      "Number of class is = 2389\n"
     ]
    }
   ],
   "source": [
    "Number_Computer_technology = comp_graphics_number+comp_os_mswindows_misc_number+comp_sys_ibm_pc_hardware_number+comp_sys_mac_hardware_number\n",
    "Number_Recreational_activity = rec_autos_number+rec_motorcycles_number+rec_sport_baseball_number+rec_sport_hockey_number\n",
    "\n",
    "print(\"Number of class is = %s\" % Number_Computer_technology)\n",
    "print(\"Number of class is = %s\" % Number_Recreational_activity)\n",
    "\n",
    "import numpy as np\n",
    "import matplotlib.pyplot as plt\n",
    "\n",
    "n_groups = 8\n",
    "\n",
    "document_number = (comp_graphics_number, comp_os_mswindows_misc_number, comp_sys_ibm_pc_hardware_number, comp_sys_mac_hardware_number, rec_autos_number, rec_motorcycles_number, rec_sport_baseball_number, rec_sport_hockey_number)\n",
    "# fig, ax = plt.subplots()\n",
    "index = np.arange(n_groups)\n",
    "bar_width = 0.35\n",
    "opacity = 0.4"
   ]
  },
  {
   "cell_type": "code",
   "execution_count": 92,
   "metadata": {
    "collapsed": false
   },
   "outputs": [
    {
     "name": "stdout",
     "output_type": "stream",
     "text": [
      "(584, 591, 590, 578, 594, 598, 597, 600)\n"
     ]
    }
   ],
   "source": [
    "print document_number\n"
   ]
  },
  {
   "cell_type": "code",
   "execution_count": 93,
   "metadata": {
    "collapsed": false
   },
   "outputs": [
    {
     "data": {
      "image/png": "[encoded data removed]",
      "text/plain": [
       "<matplotlib.figure.Figure at 0x1096094d0>"
      ]
     },
     "metadata": {},
     "output_type": "display_data"
    }
   ],
   "source": [
    "objects = ('graphics', 'misc', 'pc', 'mac', 'autos', 'motor','baseball','hocky')\n",
    "y_pos = np.arange(len(objects))\n",
    "\n",
    "%matplotlib inline\n",
    "plt.figure()\n",
    "plt.bar(y_pos, document_number, align='center', alpha=0.5)\n",
    "plt.xticks(y_pos, objects)\n",
    "plt.ylabel('Numbers')\n",
    "plt.title('The number of documents')\n",
    "plt.show()\n"
   ]
  },
  {
   "cell_type": "markdown",
   "metadata": {},
   "source": [
    "### Problem (b)\n",
    "\n",
    "We need to use the command \"nltk.download()\". And choose the \"Models\" option. Download the \"Punkt\" package which is the requirement of this problem."
   ]
  },
  {
   "cell_type": "code",
   "execution_count": 158,
   "metadata": {
    "collapsed": false
   },
   "outputs": [],
   "source": [
    "from sklearn.feature_extraction import text\n",
    "import string\n",
    "#from sklearn.feature_extraction.text import CountVectorizer\n",
    "from sklearn.feature_extraction.text import TfidfVectorizer\n",
    "from sklearn.datasets import fetch_20newsgroups\n",
    "stop_words = text.ENGLISH_STOP_WORDS.union(string.punctuation)"
   ]
  },
  {
   "cell_type": "code",
   "execution_count": 159,
   "metadata": {
    "collapsed": true
   },
   "outputs": [],
   "source": [
    "twenty_train = fetch_20newsgroups(subset='train', shuffle=True, random_state=42, remove = ('headers','footers','quotes'))\n",
    "twenty_test = fetch_20newsgroups(subset='test', shuffle=True, random_state=42, remove = ('headers','footers','quotes'))\n"
   ]
  },
  {
   "cell_type": "code",
   "execution_count": 177,
   "metadata": {
    "collapsed": false
   },
   "outputs": [
    {
     "data": {
      "text/plain": [
       "['alt.atheism',\n",
       " 'comp.graphics',\n",
       " 'comp.os.ms-windows.misc',\n",
       " 'comp.sys.ibm.pc.hardware',\n",
       " 'comp.sys.mac.hardware',\n",
       " 'comp.windows.x',\n",
       " 'misc.forsale',\n",
       " 'rec.autos',\n",
       " 'rec.motorcycles',\n",
       " 'rec.sport.baseball',\n",
       " 'rec.sport.hockey',\n",
       " 'sci.crypt',\n",
       " 'sci.electronics',\n",
       " 'sci.med',\n",
       " 'sci.space',\n",
       " 'soc.religion.christian',\n",
       " 'talk.politics.guns',\n",
       " 'talk.politics.mideast',\n",
       " 'talk.politics.misc',\n",
       " 'talk.religion.misc']"
      ]
     },
     "execution_count": 177,
     "metadata": {},
     "output_type": "execute_result"
    }
   ],
   "source": [
    "twenty_train.target_names\n",
    "#3,4,6,15"
   ]
  },
  {
   "cell_type": "markdown",
   "metadata": {},
   "source": [
    "The converse mapping from feature name to column index is stored in the vocabulary_ attribute of the vectorizer:"
   ]
  },
  {
   "cell_type": "code",
   "execution_count": 160,
   "metadata": {
    "collapsed": false
   },
   "outputs": [],
   "source": [
    "import nltk\n",
    "import re\n",
    "import string\n",
    "#import regex as re\n",
    "# stopwords = nltk.corpus.stopwords.words('english')\n",
    "from nltk.stem.snowball import SnowballStemmer\n",
    "stemmer = SnowballStemmer(\"english\")\n",
    "def remove_punctuation(text):\n",
    "    return re.sub(r'[^A-Za-z]', \" \", text)\n",
    "def tokenize_and_stem(text):\n",
    "    # first tokenize by sentence, then by word to ensure that punctuation is caught as it's own token\n",
    "    tokens =[word for sent in nltk.sent_tokenize(remove_punctuation(text)) for word in nltk.word_tokenize(sent)]\n",
    "    filtered_tokens = []\n",
    "    # filter out any tokens not containing letters (e.g., numeric tokens, raw punctuation)\n",
    "    for token in tokens:\n",
    "        if re.search('[a-zA-Z]{2,}', token):\n",
    "            filtered_tokens.append(token)         \n",
    "    stems = [stemmer.stem(t) for t in filtered_tokens]\n",
    "    return stems"
   ]
  },
  {
   "cell_type": "code",
   "execution_count": 161,
   "metadata": {
    "collapsed": false,
    "scrolled": true
   },
   "outputs": [
    {
     "name": "stdout",
     "output_type": "stream",
     "text": [
      "(11314, 55444)\n"
     ]
    }
   ],
   "source": [
    "count_vect = TfidfVectorizer(tokenizer=tokenize_and_stem,min_df=1,max_df=0.95,stop_words= stop_words, token_pattern='[a-zA-Z]{2,}')\n",
    "# count_vect = TfidfVectorizer(min_df=1,max_df=0.95,stop_words= stop_words, token_pattern='[a-zA-Z]{2,}')\n",
    "# count_vect = CountVectorizer(min_df=1, stop_words= stop_words, token_pattern='[a-zA-Z]{2,}')\n",
    "# X_train_counts = count_vect.fit_transform(stemmed)\n",
    "X_train_counts = count_vect.fit_transform(twenty_train.data)\n",
    "print X_train_counts.shape\n",
    "#X_train_counts\n",
    "#print(X_train_counts[0,3949])\n",
    "#0, 6035\n",
    "#print (count_vect.get_feature_names())"
   ]
  },
  {
   "cell_type": "code",
   "execution_count": 174,
   "metadata": {
    "collapsed": false
   },
   "outputs": [
    {
     "name": "stdout",
     "output_type": "stream",
     "text": [
      "55444\n"
     ]
    }
   ],
   "source": [
    "print len(count_vect.get_feature_names())"
   ]
  },
  {
   "cell_type": "code",
   "execution_count": 178,
   "metadata": {
    "collapsed": false
   },
   "outputs": [],
   "source": [
    "#print X_train_counts"
   ]
  },
  {
   "cell_type": "markdown",
   "metadata": {},
   "source": [
    "### Problem (c)"
   ]
  },
  {
   "cell_type": "code",
   "execution_count": 163,
   "metadata": {
    "collapsed": false
   },
   "outputs": [
    {
     "name": "stdout",
     "output_type": "stream",
     "text": [
      "[u'ani', u'drive', u'problem', u'disk', u'mb', u'work', u'card', u'scsi', u'use', u'control']\n",
      "[u'ani', u'mac', u'drive', u'problem', u'mb', u'work', u'card', u'know', u'use', u'appl']\n",
      "[u'new', u'dos', u'offer', u'sale', u'ship', u'sell', u'includ', u'price', u'pleas', u'use']\n",
      "[u'think', u'peopl', u'say', u'believ', u'church', u'jesus', u'god', u'christian', u'ani', u'know']\n"
     ]
    }
   ],
   "source": [
    "def get_max_feature(fileName):\n",
    "    categories = [fileName]\n",
    "    twenty_train_c = fetch_20newsgroups(subset='train', categories=categories, shuffle=True, random_state=42, remove = ('headers','footers','quotes'))\n",
    "    count_vect_c = TfidfVectorizer(tokenizer=tokenize_and_stem,min_df=1,max_features=10, stop_words= stop_words, token_pattern='[a-zA-Z]{2,}')\n",
    "    #count_vect_c = TfidfVectorizer(min_df=1,max_features=25, stop_words= stop_words, token_pattern='[a-zA-Z]{2,}')\n",
    "    X_train_counts_c = count_vect_c.fit_transform(twenty_train_c.data)\n",
    "    return count_vect_c.vocabulary_.keys()\n",
    "\n",
    "print (get_max_feature('comp.sys.ibm.pc.hardware'))\n",
    "print (get_max_feature('comp.sys.mac.hardware'))\n",
    "print (get_max_feature('misc.forsale'))\n",
    "print (get_max_feature('soc.religion.christian'))"
   ]
  },
  {
   "cell_type": "markdown",
   "metadata": {},
   "source": [
    "### Problem (d)"
   ]
  },
  {
   "cell_type": "code",
   "execution_count": 100,
   "metadata": {
    "collapsed": false
   },
   "outputs": [
    {
     "name": "stdout",
     "output_type": "stream",
     "text": [
      "(11314, 50)\n"
     ]
    }
   ],
   "source": [
    "from sklearn.decomposition import TruncatedSVD\n",
    "from sklearn.preprocessing import Normalizer\n",
    "from sklearn.pipeline import make_pipeline\n",
    "\n",
    "#tsv = TruncatedSVD(n_components=50,algorithm='arpack')\n",
    "tsv = TruncatedSVD(n_components=50)\n",
    "X_train_lsi = tsv.fit_transform(X_train_counts)\n",
    "print (X_train_lsi.shape)"
   ]
  },
  {
   "cell_type": "markdown",
   "metadata": {},
   "source": [
    "### Problem (e)"
   ]
  },
  {
   "cell_type": "code",
   "execution_count": 101,
   "metadata": {
    "collapsed": false
   },
   "outputs": [],
   "source": [
    "categories = ['comp.graphics','comp.os.ms-windows.misc','comp.sys.ibm.pc.hardware','comp.sys.mac.hardware','rec.autos','rec.motorcycles','rec.sport.baseball','rec.sport.hockey']\n",
    "twenty_train = fetch_20newsgroups(subset='train', categories=categories, shuffle=True, random_state=42, remove = ('headers','footers','quotes'))\n",
    "twenty_test = fetch_20newsgroups(subset='test', categories=categories, shuffle=True, random_state=42, remove = ('headers','footers','quotes'))\n",
    "twenty_train_target = np.asarray([ int(x / 4) for x in twenty_train.target])\n",
    "twenty_test_target = np.asarray([ int(x / 4) for x in twenty_test.target])\n",
    "#print twenty_test_target\n",
    "#count_vect = TfidfVectorizer(min_df=1, stop_words= stop_words, token_pattern='[a-zA-Z]{2,}')\n",
    "#X_train_counts = count_vect.fit_transform(twenty_train.data)\n",
    "#print twenty_train.target\n",
    "#print twenty_train_target"
   ]
  },
  {
   "cell_type": "code",
   "execution_count": 102,
   "metadata": {
    "collapsed": true
   },
   "outputs": [],
   "source": [
    "def data_process(twenty_test):\n",
    "    count_vect_test = TfidfVectorizer(tokenizer=tokenize_and_stem,min_df=1,max_df=0.95,stop_words= stop_words, token_pattern='[a-zA-Z]{2,}')\n",
    "    X_test_counts = count_vect_test.fit_transform(twenty_test.data)\n",
    "    tsv_test = TruncatedSVD(n_components=50,algorithm='arpack')\n",
    "    X_test_lsi = tsv_test.fit_transform(X_test_counts)\n",
    "    return X_test_lsi"
   ]
  },
  {
   "cell_type": "code",
   "execution_count": 103,
   "metadata": {
    "collapsed": false,
    "scrolled": true
   },
   "outputs": [],
   "source": [
    "from sklearn.svm import LinearSVC\n",
    "X_train_lsi=data_process(twenty_train)\n",
    "clf = LinearSVC(C=10e20).fit(X_train_lsi, twenty_train_target)"
   ]
  },
  {
   "cell_type": "code",
   "execution_count": 104,
   "metadata": {
    "collapsed": false
   },
   "outputs": [
    {
     "name": "stdout",
     "output_type": "stream",
     "text": [
      "[1 0 0 ..., 0 0 0]\n",
      "0.749523809524\n"
     ]
    }
   ],
   "source": [
    "X_test_lsi = data_process(twenty_test)\n",
    "predicted = clf.predict(X_test_lsi)\n",
    "print predicted\n",
    "score = clf.score(X_test_lsi, twenty_test_target)\n",
    "print score"
   ]
  },
  {
   "cell_type": "code",
   "execution_count": 105,
   "metadata": {
    "collapsed": false
   },
   "outputs": [
    {
     "data": {
      "image/png": "[encoded data removed]",
      "text/plain": [
       "<matplotlib.figure.Figure at 0x109f777d0>"
      ]
     },
     "metadata": {},
     "output_type": "display_data"
    }
   ],
   "source": [
    "from sklearn.metrics import roc_curve, auc\n",
    "y_score=clf.decision_function(X_test_lsi)\n",
    "fpr, tpr, _ = roc_curve(twenty_test_target, y_score)\n",
    "#average_precision = average_precision_score(twenty_test.target, y_score)\n",
    "roc_auc = auc(fpr, tpr)\n",
    "\n",
    "\n",
    "plt.figure()\n",
    "plt.plot(fpr, tpr, label='ROC curve (area = %0.2f)' % roc_auc)\n",
    "plt.plot([0, 1], [0, 1], 'k--')\n",
    "plt.xlim([0.0, 1.0])\n",
    "plt.ylim([0.0, 1.0])\n",
    "plt.xlabel('False Positive Rate')\n",
    "plt.ylabel('True Positive Rate')\n",
    "plt.title('Receiver Operating Characteristic Curve')\n",
    "plt.legend(loc=\"lower right\")\n",
    "plt.show()"
   ]
  },
  {
   "cell_type": "markdown",
   "metadata": {},
   "source": [
    "##### Confusion matrix. [Reference Link](http://scikit-learn.org/stable/modules/generated/sklearn.metrics.confusion_matrix.html)"
   ]
  },
  {
   "cell_type": "code",
   "execution_count": 106,
   "metadata": {
    "collapsed": false
   },
   "outputs": [
    {
     "name": "stdout",
     "output_type": "stream",
     "text": [
      "[[1282  278]\n",
      " [ 511 1079]]\n"
     ]
    }
   ],
   "source": [
    "from sklearn.metrics import confusion_matrix\n",
    "y_true = twenty_test_target\n",
    "y_pred = predicted\n",
    "print confusion_matrix(y_true, y_pred)"
   ]
  },
  {
   "cell_type": "markdown",
   "metadata": {},
   "source": [
    "##### Accuracy [Reference Link](http://scikit-learn.org/stable/modules/generated/sklearn.metrics.accuracy_score.html)"
   ]
  },
  {
   "cell_type": "code",
   "execution_count": 107,
   "metadata": {
    "collapsed": false
   },
   "outputs": [
    {
     "name": "stdout",
     "output_type": "stream",
     "text": [
      "0.749523809524\n"
     ]
    }
   ],
   "source": [
    "from sklearn.metrics import accuracy_score\n",
    "y_true = twenty_test_target\n",
    "y_pred = predicted\n",
    "print accuracy_score(y_true, y_pred)"
   ]
  },
  {
   "cell_type": "markdown",
   "metadata": {},
   "source": [
    "##### Precision [Reference Link](http://scikit-learn.org/stable/modules/generated/sklearn.metrics.precision_score.html#sklearn.metrics.precision_score)"
   ]
  },
  {
   "cell_type": "code",
   "execution_count": 108,
   "metadata": {
    "collapsed": false
   },
   "outputs": [
    {
     "data": {
      "text/plain": [
       "0.79513633014001472"
      ]
     },
     "execution_count": 108,
     "metadata": {},
     "output_type": "execute_result"
    }
   ],
   "source": [
    "from sklearn.metrics import precision_score\n",
    "y_true = twenty_test_target\n",
    "y_pred = predicted\n",
    "precision_score(y_true, y_pred)  "
   ]
  },
  {
   "cell_type": "markdown",
   "metadata": {},
   "source": [
    "##### Recall [Reference Link](http://scikit-learn.org/stable/modules/generated/sklearn.metrics.recall_score.html)"
   ]
  },
  {
   "cell_type": "code",
   "execution_count": 109,
   "metadata": {
    "collapsed": false
   },
   "outputs": [
    {
     "data": {
      "text/plain": [
       "0.67861635220125782"
      ]
     },
     "execution_count": 109,
     "metadata": {},
     "output_type": "execute_result"
    }
   ],
   "source": [
    "from sklearn.metrics import recall_score\n",
    "y_true = twenty_test_target\n",
    "y_pred = predicted\n",
    "recall_score(y_true, y_pred) "
   ]
  },
  {
   "cell_type": "markdown",
   "metadata": {},
   "source": [
    "##### Recall and precision of your classifier. [Reference Link](http://scikit-learn.org/stable/auto_examples/model_selection/plot_precision_recall.html)"
   ]
  },
  {
   "cell_type": "code",
   "execution_count": 110,
   "metadata": {
    "collapsed": false
   },
   "outputs": [],
   "source": [
    "#from sklearn.metrics import precision_recall_curve\n",
    "#from sklearn.metrics import average_precision_score\n",
    "#from sklearn.preprocessing import label_binarize\n",
    "#X_train = X_train_lsi\n",
    "#X_test = X_test_lsi\n",
    "#y_train = twenty_train.target\n",
    "#y_test = twenty_test.target\n",
    "#y_score = clf.decision_function(X_test_lsi)\n",
    "#y = label_binarize(twenty_train.target, classes=[0, 1])\n",
    "# n_classes = y.shape\n",
    "#print n_classes\n",
    "# Compute Precision-Recall and plot curve\n",
    "#precision = dict()\n",
    "#recall = dict()\n",
    "#average_precision = dict()\n",
    "#for i in range(n_classes):\n",
    "#precision, recall, _ = precision_recall_curve(y_test,y_score)    \n",
    "#average_precision = average_precision_score(y_test, y_score)\n",
    "#average_recall = average_recall_score(y_test, y_score)\n",
    "\n",
    "#print precision\n",
    "#print recall\n",
    "#print average_precision\n",
    "#print average_recall"
   ]
  },
  {
   "cell_type": "markdown",
   "metadata": {},
   "source": [
    "### Problem (f)"
   ]
  },
  {
   "cell_type": "code",
   "execution_count": 111,
   "metadata": {
    "collapsed": false
   },
   "outputs": [],
   "source": [
    "from sklearn.cross_validation import KFold\n",
    "kf = KFold(n=len(twenty_train_target), n_folds=5, shuffle=False, random_state=None)\n",
    "twenty_train_data = data_process(twenty_train)\n",
    "twenty_test_data = data_process(twenty_test)\n",
    "l = [[0]*7 for i in range(5)]\n",
    "i=0\n",
    "j=0\n",
    "#la=[]\n",
    "for train_index, test_index in kf:\n",
    "    #print train_index\n",
    "    #[ int(x / 4) for x in twenty_train.target]\n",
    "    X_train_soft, X_test_soft = twenty_train_data[train_index], twenty_train_data[test_index]\n",
    "    for k in [-3, -2, -1, 0, 1, 2, 3]:\n",
    "        target_train = np.asarray([ int(x / 4) for x in twenty_train.target[train_index]])\n",
    "        target_test =np.asarray([ int(x / 4) for x in twenty_train.target[test_index]])\n",
    "        clf_soft = LinearSVC(C=10**k).fit(X_train_soft, target_train)\n",
    "        #predicted_soft = clf.predict(X_test_soft_lsi)\n",
    "        score = clf_soft.score(X_test_soft, target_test)\n",
    "        #if k==1:\n",
    "        #    print score\n",
    "        #la.append(score)\n",
    "        l[i][j]=score\n",
    "        j=j+1\n",
    "        #print 1\n",
    "    i=i+1\n",
    "    j=0\n",
    "\n",
    "#print train_index\n",
    "#twenty_train.data\n",
    "#print (l)\n",
    "#print la\n",
    "# twenty_train_target[1]"
   ]
  },
  {
   "cell_type": "code",
   "execution_count": 112,
   "metadata": {
    "collapsed": false
   },
   "outputs": [],
   "source": [
    "#twenty_train.target[train_index]"
   ]
  },
  {
   "cell_type": "code",
   "execution_count": 113,
   "metadata": {
    "collapsed": false
   },
   "outputs": [
    {
     "name": "stdout",
     "output_type": "stream",
     "text": [
      "('The best penalty value is', 100)\n"
     ]
    }
   ],
   "source": [
    "average_s = list(map(lambda x: (x[0]+x[1]+x[2]+x[3]+x[4])/5, zip(l[0], l[1], l[2], l[3], l[4])))\n",
    "#print average_s\n",
    "value = max(average_s)\n",
    "index=average_s.index(value)\n",
    "#print index\n",
    "penalty = [-3, -2, -1, 0, 1, 2, 3]\n",
    "print ('The best penalty value is',10**penalty[index])"
   ]
  },
  {
   "cell_type": "code",
   "execution_count": 114,
   "metadata": {
    "collapsed": false
   },
   "outputs": [
    {
     "name": "stdout",
     "output_type": "stream",
     "text": [
      "0.76253968254\n"
     ]
    }
   ],
   "source": [
    "clf_soft_pre = LinearSVC(C=10**2).fit(twenty_train_data, twenty_train_target)\n",
    "predicted_soft_pre = clf_soft_pre.predict(twenty_test_data)\n",
    "\n",
    "s = clf_soft_pre.score(twenty_test_data, twenty_test_target)\n",
    "print s"
   ]
  },
  {
   "cell_type": "markdown",
   "metadata": {},
   "source": [
    "##### Confusion matrix. [Reference Link](http://scikit-learn.org/stable/modules/generated/sklearn.metrics.confusion_matrix.html)"
   ]
  },
  {
   "cell_type": "code",
   "execution_count": 115,
   "metadata": {
    "collapsed": false
   },
   "outputs": [
    {
     "name": "stdout",
     "output_type": "stream",
     "text": [
      "[[1275  285]\n",
      " [ 463 1127]]\n"
     ]
    }
   ],
   "source": [
    "from sklearn.metrics import confusion_matrix\n",
    "y_true = twenty_test_target\n",
    "y_pred = predicted_soft_pre\n",
    "print confusion_matrix(y_true, y_pred)"
   ]
  },
  {
   "cell_type": "code",
   "execution_count": 116,
   "metadata": {
    "collapsed": false
   },
   "outputs": [
    {
     "data": {
      "image/png": "[encoded data removed]",
      "text/plain": [
       "<matplotlib.figure.Figure at 0x11970bdd0>"
      ]
     },
     "metadata": {},
     "output_type": "display_data"
    }
   ],
   "source": [
    "from sklearn.metrics import roc_curve, auc\n",
    "y_score=clf_soft_pre.decision_function(twenty_test_data)\n",
    "fpr, tpr, _ = roc_curve(twenty_test_target, y_score)\n",
    "roc_auc = auc(fpr, tpr)\n",
    "\n",
    "plt.figure()\n",
    "plt.plot(fpr, tpr, label='ROC curve (area = %0.2f)' % roc_auc)\n",
    "plt.plot([0, 1], [0, 1], 'k--')\n",
    "plt.xlim([0.0, 1.0])\n",
    "plt.ylim([0.0, 1.0])\n",
    "plt.xlabel('False Positive Rate')\n",
    "plt.ylabel('True Positive Rate')\n",
    "plt.title('Receiver Operating Characteristic Curve')\n",
    "plt.legend(loc=\"lower right\")\n",
    "plt.show()"
   ]
  },
  {
   "cell_type": "markdown",
   "metadata": {},
   "source": [
    "##### Accuracy [Reference Link](http://scikit-learn.org/stable/modules/generated/sklearn.metrics.accuracy_score.html)"
   ]
  },
  {
   "cell_type": "code",
   "execution_count": 117,
   "metadata": {
    "collapsed": false
   },
   "outputs": [
    {
     "name": "stdout",
     "output_type": "stream",
     "text": [
      "0.76253968254\n"
     ]
    }
   ],
   "source": [
    "from sklearn.metrics import accuracy_score\n",
    "y_true = twenty_test_target\n",
    "y_pred = predicted_soft_pre\n",
    "print accuracy_score(y_true, y_pred)"
   ]
  },
  {
   "cell_type": "markdown",
   "metadata": {},
   "source": [
    "##### Precision [Reference Link](http://scikit-learn.org/stable/modules/generated/sklearn.metrics.precision_score.html#sklearn.metrics.precision_score)"
   ]
  },
  {
   "cell_type": "code",
   "execution_count": 118,
   "metadata": {
    "collapsed": false
   },
   "outputs": [
    {
     "data": {
      "text/plain": [
       "0.79815864022662886"
      ]
     },
     "execution_count": 118,
     "metadata": {},
     "output_type": "execute_result"
    }
   ],
   "source": [
    "from sklearn.metrics import precision_score\n",
    "y_true = twenty_test_target\n",
    "y_pred = predicted_soft_pre\n",
    "precision_score(y_true, y_pred)  "
   ]
  },
  {
   "cell_type": "markdown",
   "metadata": {},
   "source": [
    "##### Recall [Reference Link](http://scikit-learn.org/stable/modules/generated/sklearn.metrics.recall_score.html)"
   ]
  },
  {
   "cell_type": "code",
   "execution_count": 119,
   "metadata": {
    "collapsed": false
   },
   "outputs": [
    {
     "data": {
      "text/plain": [
       "0.70880503144654083"
      ]
     },
     "execution_count": 119,
     "metadata": {},
     "output_type": "execute_result"
    }
   ],
   "source": [
    "from sklearn.metrics import recall_score\n",
    "y_true = twenty_test_target\n",
    "y_pred = predicted_soft_pre\n",
    "recall_score(y_true, y_pred) "
   ]
  },
  {
   "cell_type": "markdown",
   "metadata": {},
   "source": [
    "##### Recall and precision of your classifier. [Reference Link](http://scikit-learn.org/stable/auto_examples/model_selection/plot_precision_recall.html)"
   ]
  },
  {
   "cell_type": "code",
   "execution_count": 120,
   "metadata": {
    "collapsed": false
   },
   "outputs": [],
   "source": [
    "# from sklearn.metrics import precision_recall_curve\n",
    "# from sklearn.metrics import average_precision_score\n",
    "# from sklearn.preprocessing import label_binarize\n",
    "# X_train = X_train_lsi\n",
    "# X_test = X_test_lsi\n",
    "# y_train = twenty_train.target\n",
    "# y_test = twenty_test.target\n",
    "# y_score = clf_soft_pre.decision_function(X_test_lsi)\n",
    "# y = label_binarize(twenty_train.target, classes=[0, 1])\n",
    "# # n_classes = y.shape\n",
    "# #print n_classes\n",
    "# # Compute Precision-Recall and plot curve\n",
    "# precision = dict()\n",
    "# recall = dict()\n",
    "# average_precision = dict()\n",
    "# #for i in range(n_classes):\n",
    "# precision, recall, _ = precision_recall_curve(y_test,y_score)    \n",
    "# average_precision = average_precision_score(y_test, y_score)\n",
    "\n",
    "# # print precision\n",
    "# # print recall\n",
    "# print average_precision"
   ]
  },
  {
   "cell_type": "markdown",
   "metadata": {},
   "source": [
    "### Problem (g)"
   ]
  },
  {
   "cell_type": "markdown",
   "metadata": {},
   "source": [
    "##### Naïve Bayes Algorithm [Reference Link](http://scikit-learn.org/stable/modules/generated/sklearn.naive_bayes.GaussianNB.html)"
   ]
  },
  {
   "cell_type": "code",
   "execution_count": 121,
   "metadata": {
    "collapsed": true
   },
   "outputs": [],
   "source": [
    "from sklearn.naive_bayes import GaussianNB\n",
    "clf_naive_bayes = GaussianNB().fit(X_train_lsi, twenty_train_target)"
   ]
  },
  {
   "cell_type": "code",
   "execution_count": 122,
   "metadata": {
    "collapsed": false
   },
   "outputs": [
    {
     "name": "stdout",
     "output_type": "stream",
     "text": [
      "(3150,)\n",
      "0.686031746032\n"
     ]
    }
   ],
   "source": [
    "X_test_lsi = data_process(twenty_test)\n",
    "predicted = clf_naive_bayes.predict(X_test_lsi)\n",
    "print predicted.shape\n",
    "score = clf_naive_bayes.score(X_test_lsi, twenty_test_target)\n",
    "print score"
   ]
  },
  {
   "cell_type": "markdown",
   "metadata": {},
   "source": [
    "##### ROC curve [Reference Link](http://scikit-learn.org/stable/modules/generated/sklearn.metrics.roc_curve.html)"
   ]
  },
  {
   "cell_type": "code",
   "execution_count": 123,
   "metadata": {
    "collapsed": false
   },
   "outputs": [
    {
     "data": {
      "image/png": "[encoded data removed]",
      "text/plain": [
       "<matplotlib.figure.Figure at 0x11962d750>"
      ]
     },
     "metadata": {},
     "output_type": "display_data"
    }
   ],
   "source": [
    "from sklearn.metrics import roc_curve, auc\n",
    "y_score=clf_naive_bayes.predict_proba(X_test_lsi)[:, 1]\n",
    "fpr, tpr, _ = roc_curve(twenty_test_target, y_score)\n",
    "roc_auc = auc(fpr, tpr)\n",
    "\n",
    "plt.figure()\n",
    "plt.plot(fpr, tpr, label='ROC curve (area = %0.2f)' % roc_auc)\n",
    "plt.plot([0, 1], [0, 1], 'k--')\n",
    "plt.xlim([0.0, 1.0])\n",
    "plt.ylim([0.0, 1.0])\n",
    "plt.xlabel('False Positive Rate')\n",
    "plt.ylabel('True Positive Rate')\n",
    "plt.title('Receiver Operating Characteristic Curve')\n",
    "plt.legend(loc=\"lower right\")\n",
    "plt.show()"
   ]
  },
  {
   "cell_type": "markdown",
   "metadata": {},
   "source": [
    "##### Confusion matrix. [Reference Link](http://scikit-learn.org/stable/modules/generated/sklearn.metrics.confusion_matrix.html)"
   ]
  },
  {
   "cell_type": "code",
   "execution_count": 124,
   "metadata": {
    "collapsed": false
   },
   "outputs": [
    {
     "name": "stdout",
     "output_type": "stream",
     "text": [
      "[[1257  303]\n",
      " [ 686  904]]\n"
     ]
    }
   ],
   "source": [
    "from sklearn.metrics import confusion_matrix\n",
    "y_true = twenty_test_target\n",
    "y_pred = predicted\n",
    "print confusion_matrix(y_true, y_pred)"
   ]
  },
  {
   "cell_type": "markdown",
   "metadata": {},
   "source": [
    "##### Accuracy [Reference Link](http://scikit-learn.org/stable/modules/generated/sklearn.metrics.accuracy_score.html)"
   ]
  },
  {
   "cell_type": "code",
   "execution_count": 125,
   "metadata": {
    "collapsed": false
   },
   "outputs": [
    {
     "name": "stdout",
     "output_type": "stream",
     "text": [
      "0.686031746032\n"
     ]
    }
   ],
   "source": [
    "from sklearn.metrics import accuracy_score\n",
    "y_true = twenty_test_target\n",
    "y_pred = predicted\n",
    "print accuracy_score(y_true, y_pred)"
   ]
  },
  {
   "cell_type": "markdown",
   "metadata": {},
   "source": [
    "##### Precision [Reference Link](http://scikit-learn.org/stable/modules/generated/sklearn.metrics.precision_score.html#sklearn.metrics.precision_score)"
   ]
  },
  {
   "cell_type": "code",
   "execution_count": 126,
   "metadata": {
    "collapsed": false
   },
   "outputs": [
    {
     "data": {
      "text/plain": [
       "0.74896437448218722"
      ]
     },
     "execution_count": 126,
     "metadata": {},
     "output_type": "execute_result"
    }
   ],
   "source": [
    "from sklearn.metrics import precision_score\n",
    "y_true = twenty_test_target\n",
    "y_pred = predicted\n",
    "precision_score(y_true, y_pred)  "
   ]
  },
  {
   "cell_type": "markdown",
   "metadata": {},
   "source": [
    "##### Recall [Reference Link](http://scikit-learn.org/stable/modules/generated/sklearn.metrics.recall_score.html)"
   ]
  },
  {
   "cell_type": "code",
   "execution_count": 127,
   "metadata": {
    "collapsed": false
   },
   "outputs": [
    {
     "data": {
      "text/plain": [
       "0.56855345911949684"
      ]
     },
     "execution_count": 127,
     "metadata": {},
     "output_type": "execute_result"
    }
   ],
   "source": [
    "from sklearn.metrics import recall_score\n",
    "y_true = twenty_test_target\n",
    "y_pred = predicted\n",
    "recall_score(y_true, y_pred) "
   ]
  },
  {
   "cell_type": "markdown",
   "metadata": {},
   "source": [
    "##### Recall and precision of your classifier. [Reference Link](http://scikit-learn.org/stable/auto_examples/model_selection/plot_precision_recall.html)"
   ]
  },
  {
   "cell_type": "code",
   "execution_count": 128,
   "metadata": {
    "collapsed": false
   },
   "outputs": [],
   "source": [
    "# from sklearn.metrics import precision_recall_curve\n",
    "# from sklearn.metrics import average_precision_score\n",
    "# from sklearn.preprocessing import label_binarize\n",
    "# X_train = X_train_lsi\n",
    "# X_test = X_test_lsi\n",
    "# y_train = twenty_train.target\n",
    "# y_test = twenty_test.target\n",
    "# y_score = clf_naive_bayes.predict_proba(X_test_lsi)[:, 1]\n",
    "# y = label_binarize(twenty_train.target, classes=[0, 1])\n",
    "# # n_classes = y.shape\n",
    "# #print n_classes\n",
    "# # Compute Precision-Recall and plot curve\n",
    "# precision = dict()\n",
    "# recall = dict()\n",
    "# average_precision = dict()\n",
    "# #for i in range(n_classes):\n",
    "# precision, recall, _ = precision_recall_curve(y_test,y_score)    \n",
    "# average_precision = average_precision_score(y_test, y_score)\n",
    "# #average_recall = average_recall_score(y_test, y_score)\n",
    "\n",
    "# # print precision\n",
    "# #print recall\n",
    "# #print average_precision"
   ]
  },
  {
   "cell_type": "markdown",
   "metadata": {},
   "source": [
    "### Problem (h)"
   ]
  },
  {
   "cell_type": "markdown",
   "metadata": {},
   "source": [
    "###### logistic regression [Reference Link](http://scikit-learn.org/stable/modules/generated/sklearn.linear_model.LogisticRegression.html)"
   ]
  },
  {
   "cell_type": "code",
   "execution_count": 129,
   "metadata": {
    "collapsed": true
   },
   "outputs": [],
   "source": [
    "from sklearn.linear_model import LogisticRegression\n",
    "clf_logistic_regression = LogisticRegression().fit(X_train_lsi, twenty_train_target)"
   ]
  },
  {
   "cell_type": "code",
   "execution_count": 130,
   "metadata": {
    "collapsed": false
   },
   "outputs": [
    {
     "name": "stdout",
     "output_type": "stream",
     "text": [
      "(3150,)\n",
      "0.828571428571\n"
     ]
    }
   ],
   "source": [
    "X_test_lsi = data_process(twenty_test)\n",
    "predicted = clf_logistic_regression.predict(X_test_lsi)\n",
    "print predicted.shape\n",
    "score = clf_logistic_regression.score(X_test_lsi, twenty_test_target)\n",
    "print score"
   ]
  },
  {
   "cell_type": "markdown",
   "metadata": {},
   "source": [
    "##### ROC curve [Reference Link](http://scikit-learn.org/stable/modules/generated/sklearn.metrics.roc_curve.html)"
   ]
  },
  {
   "cell_type": "code",
   "execution_count": 131,
   "metadata": {
    "collapsed": false
   },
   "outputs": [
    {
     "data": {
      "image/png": "[encoded data removed]",
      "text/plain": [
       "<matplotlib.figure.Figure at 0x109f82410>"
      ]
     },
     "metadata": {},
     "output_type": "display_data"
    }
   ],
   "source": [
    "from sklearn.metrics import roc_curve, auc\n",
    "y_score=clf_logistic_regression.predict_proba(X_test_lsi)[:, 1]\n",
    "fpr, tpr, _ = roc_curve(twenty_test_target, y_score)\n",
    "roc_auc = auc(fpr, tpr)\n",
    "\n",
    "plt.figure()\n",
    "plt.plot(fpr, tpr, label='ROC curve (area = %0.2f)' % roc_auc)\n",
    "plt.plot([0, 1], [0, 1], 'k--')\n",
    "plt.xlim([0.0, 1.0])\n",
    "plt.ylim([0.0, 1.0])\n",
    "plt.xlabel('False Positive Rate')\n",
    "plt.ylabel('True Positive Rate')\n",
    "plt.title('Receiver Operating Characteristic Curve')\n",
    "plt.legend(loc=\"lower right\")\n",
    "plt.show()"
   ]
  },
  {
   "cell_type": "markdown",
   "metadata": {},
   "source": [
    "##### Confusion matrix. [Reference Link](http://scikit-learn.org/stable/modules/generated/sklearn.metrics.confusion_matrix.html)"
   ]
  },
  {
   "cell_type": "code",
   "execution_count": 132,
   "metadata": {
    "collapsed": false
   },
   "outputs": [
    {
     "name": "stdout",
     "output_type": "stream",
     "text": [
      "[[1335  225]\n",
      " [ 315 1275]]\n"
     ]
    }
   ],
   "source": [
    "from sklearn.metrics import confusion_matrix\n",
    "y_true = twenty_test_target\n",
    "y_pred = predicted\n",
    "print confusion_matrix(y_true, y_pred)"
   ]
  },
  {
   "cell_type": "markdown",
   "metadata": {},
   "source": [
    "##### Accuracy [Reference Link](http://scikit-learn.org/stable/modules/generated/sklearn.metrics.accuracy_score.html)"
   ]
  },
  {
   "cell_type": "code",
   "execution_count": 133,
   "metadata": {
    "collapsed": false
   },
   "outputs": [
    {
     "name": "stdout",
     "output_type": "stream",
     "text": [
      "0.828571428571\n"
     ]
    }
   ],
   "source": [
    "from sklearn.metrics import accuracy_score\n",
    "y_true = twenty_test_target\n",
    "y_pred = predicted\n",
    "print accuracy_score(y_true, y_pred)"
   ]
  },
  {
   "cell_type": "markdown",
   "metadata": {},
   "source": [
    "##### Precision [Reference Link](http://scikit-learn.org/stable/modules/generated/sklearn.metrics.precision_score.html#sklearn.metrics.precision_score)"
   ]
  },
  {
   "cell_type": "code",
   "execution_count": 134,
   "metadata": {
    "collapsed": false
   },
   "outputs": [
    {
     "data": {
      "text/plain": [
       "0.84999999999999998"
      ]
     },
     "execution_count": 134,
     "metadata": {},
     "output_type": "execute_result"
    }
   ],
   "source": [
    "from sklearn.metrics import precision_score\n",
    "y_true = twenty_test_target\n",
    "y_pred = predicted\n",
    "precision_score(y_true, y_pred)  "
   ]
  },
  {
   "cell_type": "markdown",
   "metadata": {},
   "source": [
    "##### Recall [Reference Link](http://scikit-learn.org/stable/modules/generated/sklearn.metrics.recall_score.html)"
   ]
  },
  {
   "cell_type": "code",
   "execution_count": 135,
   "metadata": {
    "collapsed": false
   },
   "outputs": [
    {
     "data": {
      "text/plain": [
       "0.80188679245283023"
      ]
     },
     "execution_count": 135,
     "metadata": {},
     "output_type": "execute_result"
    }
   ],
   "source": [
    "from sklearn.metrics import recall_score\n",
    "y_true = twenty_test_target\n",
    "y_pred = predicted\n",
    "recall_score(y_true, y_pred) "
   ]
  },
  {
   "cell_type": "markdown",
   "metadata": {},
   "source": [
    "### Problem (i)"
   ]
  },
  {
   "cell_type": "code",
   "execution_count": 137,
   "metadata": {
    "collapsed": false
   },
   "outputs": [],
   "source": [
    "#import scipy.sparse\n",
    "#twenty_train_lsi_i_s = scipy.sparse.csr_matrix(twenty_train_lsi_i)\n",
    "#y_s = scipy.sparse.csr_matrix(twenty_train_i.target)\n",
    "#twenty_test_lsi_i_s = scipy.sparse.csr_matrix(twenty_test_lsi_i)\n",
    "#y_test_s = scipy.sparse.csr_matrix(twenty_test_i.target)"
   ]
  },
  {
   "cell_type": "code",
   "execution_count": 138,
   "metadata": {
    "collapsed": false
   },
   "outputs": [],
   "source": [
    "misc_num = get_Number('misc.forsale')\n",
    "chri_num = get_Number('soc.religion.christian')\n",
    "#print misc_num\n",
    "#print chri_num\n",
    "#585,599"
   ]
  },
  {
   "cell_type": "code",
   "execution_count": 139,
   "metadata": {
    "collapsed": false
   },
   "outputs": [],
   "source": [
    "from sklearn.multiclass import OneVsRestClassifier\n",
    "from sklearn.multiclass import OneVsOneClassifier\n",
    "from sklearn.svm import LinearSVC\n",
    "from sklearn.svm import SVC\n",
    "from sklearn import metrics\n",
    "#590,578,\n",
    "categories_i = ['comp.sys.ibm.pc.hardware','comp.sys.mac.hardware','misc.forsale','soc.religion.christian']\n",
    "twenty_train_i = fetch_20newsgroups(subset='train', categories=categories_i, shuffle=True, random_state=6, remove = ('headers','footers','quotes'))\n",
    "twenty_test_i = fetch_20newsgroups(subset='test', categories=categories_i, shuffle=True, random_state=6, remove = ('headers','footers','quotes'))\n",
    "twenty_train_lsi_i = data_process(twenty_train_i)\n",
    "twenty_test_lsi_i = data_process(twenty_test_i)\n",
    "twenty_train_i_target = twenty_train_i.target"
   ]
  },
  {
   "cell_type": "code",
   "execution_count": 140,
   "metadata": {
    "collapsed": false
   },
   "outputs": [],
   "source": [
    "#categories_i_1 = ['comp.sys.ibm.pc.hardware']\n",
    "#twenty_train_i_1 = fetch_20newsgroups(subset='train', categories=categories_i_1, shuffle=True, random_state=42, remove = ('headers','footers','quotes'))\n",
    "#twenty_train_lsi_i_1 = data_process(twenty_train_i_1)\n",
    "#data_1 = np.c_[twenty_train_lsi_i_1,twenty_train_i_1.target]\n",
    "#data_1=np.delete(data_1, np.s_[500:],0)\n",
    "#categories_i_2 = ['comp.sys.mac.hardware']\n",
    "#twenty_train_i_2 = fetch_20newsgroups(subset='train', categories=categories_i_2, shuffle=True, random_state=42, remove = ('headers','footers','quotes'))\n",
    "#twenty_train_lsi_i_2 = data_process(twenty_train_i_2)\n",
    "#target_2 = np.asarray([1 for x in twenty_train_i_2.target])\n",
    "#data_2 = np.c_[twenty_train_lsi_i_2,target_2]\n",
    "#data_2=np.delete(data_2, np.s_[500:],0)\n",
    "#categories_i_3 = ['misc.forsale']\n",
    "#twenty_train_i_3 = fetch_20newsgroups(subset='train', categories=categories_i_3, shuffle=True, random_state=42, remove = ('headers','footers','quotes'))\n",
    "#twenty_train_lsi_i_3 = data_process(twenty_train_i_3)\n",
    "#target_3 = np.asarray([2 for x in twenty_train_i_3.target])\n",
    "#data_3 = np.c_[twenty_train_lsi_i_3,target_3]\n",
    "#data_3=np.delete(data_3, np.s_[500:],0)\n",
    "#categories_i_4 = ['soc.religion.christian']\n",
    "#twenty_train_i_4 = fetch_20newsgroups(subset='train', categories=categories_i_4, shuffle=True, random_state=42, remove = ('headers','footers','quotes'))\n",
    "#twenty_train_lsi_i_4 = data_process(twenty_train_i_4)\n",
    "#target_4 = np.asarray([3 for x in twenty_train_i_4.target])\n",
    "#data_4 = np.c_[twenty_train_lsi_i_4,target_4]\n",
    "#data_4=np.delete(data_4, np.s_[500:],0)"
   ]
  },
  {
   "cell_type": "code",
   "execution_count": 141,
   "metadata": {
    "collapsed": false
   },
   "outputs": [],
   "source": [
    "#data = np.vstack((data_1, data_2, data_3, data_4))\n",
    "#np.random.shuffle(data)\n",
    "#twenty_train_lsi_i = data[:, :-1]\n",
    "#twenty_train_i_target = data[:,-1]"
   ]
  },
  {
   "cell_type": "code",
   "execution_count": 145,
   "metadata": {
    "collapsed": false
   },
   "outputs": [
    {
     "name": "stdout",
     "output_type": "stream",
     "text": [
      "4\n"
     ]
    }
   ],
   "source": [
    "from sklearn.preprocessing import label_binarize\n",
    "y = twenty_train_i.target\n",
    "y = label_binarize(y, classes=[0, 1, 2, 3])\n",
    "n_classes = y.shape[1]\n",
    "print n_classes\n",
    "y_test = twenty_test_i.target\n",
    "y_test = label_binarize(y_test, classes=[0, 1, 2, 3])"
   ]
  },
  {
   "cell_type": "markdown",
   "metadata": {},
   "source": [
    "##### One VS Rest"
   ]
  },
  {
   "cell_type": "code",
   "execution_count": 146,
   "metadata": {
    "collapsed": false
   },
   "outputs": [
    {
     "name": "stdout",
     "output_type": "stream",
     "text": [
      "0.582747603834\n"
     ]
    }
   ],
   "source": [
    "fit_i = OneVsRestClassifier(LinearSVC(random_state = 0)).fit(twenty_train_lsi_i, twenty_train_i_target)\n",
    "predict_i = fit_i.predict(twenty_test_lsi_i)\n",
    "score = fit_i.score(twenty_test_lsi_i, twenty_test_i.target)\n",
    "#score = metrics.accuracy_score(predict_i, twenty_test_i.target)\n",
    "predict_score = fit_i.decision_function(twenty_test_lsi_i)\n",
    "print score"
   ]
  },
  {
   "cell_type": "code",
   "execution_count": 147,
   "metadata": {
    "collapsed": false
   },
   "outputs": [
    {
     "name": "stdout",
     "output_type": "stream",
     "text": [
      "0.563982043464\n",
      "0.582747603834\n",
      "0.582747603834\n",
      "[[149 178  60   5]\n",
      " [124  94 140  27]\n",
      " [ 37  35 308  10]\n",
      " [  4   5  28 361]]\n"
     ]
    }
   ],
   "source": [
    "fpr = dict()\n",
    "tpr = dict()\n",
    "for i in range(n_classes):\n",
    "    fpr[i], tpr[i], _ = roc_curve(y_test[:, i],predict_score[:, i])\n",
    "\n",
    "#print precision\n",
    "#print recall\n",
    "\n",
    "print precision_score(twenty_test_i.target, predict_i,average='weighted')  \n",
    "print recall_score(twenty_test_i.target, predict_i,average='weighted') \n",
    "print accuracy_score(twenty_test_i.target, predict_i)\n",
    "print confusion_matrix(twenty_test_i.target, predict_i)"
   ]
  },
  {
   "cell_type": "markdown",
   "metadata": {},
   "source": [
    "##### One VS One"
   ]
  },
  {
   "cell_type": "code",
   "execution_count": 148,
   "metadata": {
    "collapsed": false
   },
   "outputs": [
    {
     "name": "stdout",
     "output_type": "stream",
     "text": [
      "0.580191693291\n"
     ]
    }
   ],
   "source": [
    "fit_i = OneVsOneClassifier(LinearSVC()).fit(twenty_train_lsi_i, twenty_train_i_target)\n",
    "predict_i = fit_i.predict(twenty_test_lsi_i)\n",
    "score = fit_i.score(twenty_test_lsi_i, twenty_test_i.target)\n",
    "predict_score = fit_i.decision_function(twenty_test_lsi_i)\n",
    "print score "
   ]
  },
  {
   "cell_type": "code",
   "execution_count": 149,
   "metadata": {
    "collapsed": false
   },
   "outputs": [
    {
     "name": "stdout",
     "output_type": "stream",
     "text": [
      "0.571965590504\n",
      "0.580191693291\n",
      "0.580191693291\n",
      "[[156 175  59   2]\n",
      " [145  94 136  10]\n",
      " [ 37  37 310   6]\n",
      " [  5  10  35 348]]\n"
     ]
    }
   ],
   "source": [
    "fpr = dict()\n",
    "tpr = dict()\n",
    "for i in range(n_classes):\n",
    "    fpr[i], tpr[i], _ = roc_curve(y_test[:, i],predict_score[:, i])\n",
    "\n",
    "#print precision\n",
    "#print recall\n",
    "print precision_score(twenty_test_i.target, predict_i,average='weighted')  \n",
    "print recall_score(twenty_test_i.target, predict_i, average='weighted') \n",
    "print accuracy_score(twenty_test_i.target, predict_i)\n",
    "print confusion_matrix(twenty_test_i.target, predict_i)"
   ]
  },
  {
   "cell_type": "markdown",
   "metadata": {},
   "source": [
    "##### Naive bayes"
   ]
  },
  {
   "cell_type": "code",
   "execution_count": 150,
   "metadata": {
    "collapsed": false
   },
   "outputs": [
    {
     "name": "stdout",
     "output_type": "stream",
     "text": [
      "(1565,)\n",
      "0.444089456869\n",
      "0.449276631965\n",
      "0.444089456869\n",
      "0.444089456869\n",
      "[[137 161  72  22]\n",
      " [109 127 105  44]\n",
      " [ 79  45 204  62]\n",
      " [ 97  18  56 227]]\n"
     ]
    }
   ],
   "source": [
    "clf_naive_bayes = GaussianNB().fit(twenty_train_lsi_i, twenty_train_i_target)\n",
    "predicted = clf_naive_bayes.predict(twenty_test_lsi_i)\n",
    "print predicted.shape\n",
    "score = clf_naive_bayes.score(twenty_test_lsi_i, twenty_test_i.target)\n",
    "print score\n",
    "\n",
    "print precision_score(twenty_test_i.target, predicted,average='weighted')  \n",
    "print recall_score(twenty_test_i.target, predicted,average='weighted') \n",
    "print accuracy_score(twenty_test_i.target, predicted)\n",
    "print confusion_matrix(twenty_test_i.target, predicted)"
   ]
  },
  {
   "cell_type": "code",
   "execution_count": null,
   "metadata": {
    "collapsed": true
   },
   "outputs": [],
   "source": []
  }
 ],
 "metadata": {
  "kernelspec": {
   "display_name": "Python 2",
   "language": "python",
   "name": "python2"
  },
  "language_info": {
   "codemirror_mode": {
    "name": "ipython",
    "version": 2
   },
   "file_extension": ".py",
   "mimetype": "text/x-python",
   "name": "python",
   "nbconvert_exporter": "python",
   "pygments_lexer": "ipython2",
   "version": "2.7.11"
  }
 },
 "nbformat": 4,
 "nbformat_minor": 0
}
