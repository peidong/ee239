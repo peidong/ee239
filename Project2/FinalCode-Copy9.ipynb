{
 "cells": [
  {
   "cell_type": "raw",
   "metadata": {},
   "source": [
    "# Project 2 Code\n",
    "### Group Members: \n",
    "#### Jiayu Guo(504513188), Yitian Hu(904516321), Peidong Chen(204432674), Yang Yang(804522285)"
   ]
  },
  {
   "cell_type": "markdown",
   "metadata": {},
   "source": [
    "### Problem (a)"
   ]
  },
  {
   "cell_type": "code",
   "execution_count": 1,
   "metadata": {
    "collapsed": false
   },
   "outputs": [],
   "source": [
    "from sklearn.datasets import fetch_20newsgroups\n",
    "categories = ['comp.graphics','rec.autos']\n",
    "twenty_train = fetch_20newsgroups(subset='train', categories=categories, shuffle=True, random_state=42)\n",
    "twenty_test = fetch_20newsgroups(subset='test', categories=categories, shuffle=True, random_state=42)"
   ]
  },
  {
   "cell_type": "code",
   "execution_count": 2,
   "metadata": {
    "collapsed": true
   },
   "outputs": [],
   "source": [
    "from sklearn.feature_extraction.text import CountVectorizer\n",
    "def get_Number(fileName):\n",
    "    count_vect = CountVectorizer()\n",
    "    categories = [fileName]\n",
    "    comp_graphic_train = fetch_20newsgroups(subset='train', categories=categories)\n",
    "    comp_graphics_number = count_vect.fit_transform(comp_graphic_train.data)\n",
    "    #print(\"(number of documents, number of features) = (%s, %s) \" % comp_graphics_number.shape)\n",
    "    [r,v] = comp_graphics_number.shape\n",
    "    return r\n",
    "\n",
    "comp_graphics_number = get_Number('comp.graphics')\n",
    "comp_os_mswindows_misc_number = get_Number('comp.os.ms-windows.misc')\n",
    "comp_sys_ibm_pc_hardware_number = get_Number('comp.sys.ibm.pc.hardware')\n",
    "comp_sys_mac_hardware_number = get_Number('comp.sys.mac.hardware')\n",
    "rec_autos_number = get_Number('rec.autos')\n",
    "rec_motorcycles_number = get_Number('rec.motorcycles')\n",
    "rec_sport_baseball_number = get_Number('rec.sport.baseball')\n",
    "rec_sport_hockey_number = get_Number('rec.sport.hockey')"
   ]
  },
  {
   "cell_type": "code",
   "execution_count": 3,
   "metadata": {
    "collapsed": false
   },
   "outputs": [
    {
     "name": "stdout",
     "output_type": "stream",
     "text": [
      "Number of class is = 2343\n",
      "Number of class is = 2389\n"
     ]
    }
   ],
   "source": [
    "Number_Computer_technology = comp_graphics_number+comp_os_mswindows_misc_number+comp_sys_ibm_pc_hardware_number+comp_sys_mac_hardware_number\n",
    "Number_Recreational_activity = rec_autos_number+rec_motorcycles_number+rec_sport_baseball_number+rec_sport_hockey_number\n",
    "\n",
    "print(\"Number of class is = %s\" % Number_Computer_technology)\n",
    "print(\"Number of class is = %s\" % Number_Recreational_activity)\n",
    "\n",
    "import numpy as np\n",
    "import matplotlib.pyplot as plt\n",
    "\n",
    "n_groups = 8\n",
    "\n",
    "document_number = (comp_graphics_number, comp_os_mswindows_misc_number, comp_sys_ibm_pc_hardware_number, comp_sys_mac_hardware_number, rec_autos_number, rec_motorcycles_number, rec_sport_baseball_number, rec_sport_hockey_number)\n",
    "# fig, ax = plt.subplots()\n",
    "index = np.arange(n_groups)\n",
    "bar_width = 0.35\n",
    "opacity = 0.4"
   ]
  },
  {
   "cell_type": "code",
   "execution_count": 4,
   "metadata": {
    "collapsed": false
   },
   "outputs": [
    {
     "name": "stdout",
     "output_type": "stream",
     "text": [
      "(584, 591, 590, 578, 594, 598, 597, 600)\n"
     ]
    }
   ],
   "source": [
    "print document_number\n"
   ]
  },
  {
   "cell_type": "code",
   "execution_count": 5,
   "metadata": {
    "collapsed": false
   },
   "outputs": [
    {
     "data": {
      "image/png": "[encoded data removed]",
      "text/plain": [
       "<matplotlib.figure.Figure at 0x8d20ef0>"
      ]
     },
     "metadata": {},
     "output_type": "display_data"
    }
   ],
   "source": [
    "objects = ('graphics', 'misc', 'pc', 'mac', 'autos', 'motor','baseball','hocky')\n",
    "y_pos = np.arange(len(objects))\n",
    "\n",
    "%matplotlib inline\n",
    "plt.figure()\n",
    "plt.bar(y_pos, document_number, align='center', alpha=0.5)\n",
    "plt.xticks(y_pos, objects)\n",
    "plt.ylabel('Numbers')\n",
    "plt.title('The number of documents')\n",
    "plt.show()\n"
   ]
  },
  {
   "cell_type": "markdown",
   "metadata": {},
   "source": [
    "### Problem (b)\n",
    "\n",
    "We need to use the command \"nltk.download()\". And choose the \"Models\" option. Download the \"Punkt\" package which is the requirement of this problem."
   ]
  },
  {
   "cell_type": "code",
   "execution_count": 6,
   "metadata": {
    "collapsed": false
   },
   "outputs": [],
   "source": [
    "from sklearn.feature_extraction import text\n",
    "import string\n",
    "#from sklearn.feature_extraction.text import CountVectorizer\n",
    "from sklearn.feature_extraction.text import TfidfVectorizer\n",
    "from sklearn.datasets import fetch_20newsgroups\n",
    "stop_words = text.ENGLISH_STOP_WORDS.union(string.punctuation)"
   ]
  },
  {
   "cell_type": "code",
   "execution_count": 7,
   "metadata": {
    "collapsed": true
   },
   "outputs": [],
   "source": [
    "twenty_train = fetch_20newsgroups(subset='train', shuffle=True, random_state=42, remove = ('headers','footers','quotes'))\n",
    "twenty_test = fetch_20newsgroups(subset='test', shuffle=True, random_state=42, remove = ('headers','footers','quotes'))\n"
   ]
  },
  {
   "cell_type": "code",
   "execution_count": 8,
   "metadata": {
    "collapsed": false
   },
   "outputs": [],
   "source": [
    "#twenty_train.target_names\n",
    "#3,4,6,15"
   ]
  },
  {
   "cell_type": "markdown",
   "metadata": {},
   "source": [
    "The converse mapping from feature name to column index is stored in the vocabulary_ attribute of the vectorizer:"
   ]
  },
  {
   "cell_type": "code",
   "execution_count": 9,
   "metadata": {
    "collapsed": false
   },
   "outputs": [],
   "source": [
    "import nltk\n",
    "import re\n",
    "import string\n",
    "#import regex as re\n",
    "# stopwords = nltk.corpus.stopwords.words('english')\n",
    "from nltk.stem.snowball import SnowballStemmer\n",
    "stemmer = SnowballStemmer(\"english\")\n",
    "def remove_punctuation(text):\n",
    "    return re.sub(r'[^A-Za-z]', \" \", text)\n",
    "def tokenize_and_stem(text):\n",
    "    # first tokenize by sentence, then by word to ensure that punctuation is caught as it's own token\n",
    "    tokens =[word for sent in nltk.sent_tokenize(remove_punctuation(text)) for word in nltk.word_tokenize(sent)]\n",
    "    filtered_tokens = []\n",
    "    # filter out any tokens not containing letters (e.g., numeric tokens, raw punctuation)\n",
    "    for token in tokens:\n",
    "        if re.search('[a-zA-Z]{2,}', token):\n",
    "            filtered_tokens.append(token)         \n",
    "    stems = [stemmer.stem(t) for t in filtered_tokens]\n",
    "    return stems"
   ]
  },
  {
   "cell_type": "code",
   "execution_count": 10,
   "metadata": {
    "collapsed": true
   },
   "outputs": [],
   "source": [
    "__stemmer = nltk.stem.LancasterStemmer()\n",
    "__words_only = re.compile(\"^[A-Za-z]*$\")\n",
    "def punctuation_cleaner(s):\n",
    "    if s not in string.punctuation:\n",
    "        return True\n",
    "    return False\n",
    "def stop_word_cleaner(s):\n",
    "    if s not in feature_extraction.text.ENGLISH_STOP_WORDS:\n",
    "        return True\n",
    "    return False\n",
    "def stem_cleaner(s):\n",
    "    return __stemmer.stem(s)\n",
    "def clean_word(s):\n",
    "    result = \"\"\n",
    "    if s is not None:\n",
    "        for w in nltk.tokenize.word_tokenize(s.lower()):\n",
    "            if w is not None and stop_word_cleaner(w) and punctuation_cleaner(w) and regex_filter(w):\n",
    "                result += \" \" + stem_cleaner(w)\n",
    "    return result\n",
    "def regex_filter(s):\n",
    "    if __words_only.match(s) is not None:\n",
    "        return True\n",
    "    return False"
   ]
  },
  {
   "cell_type": "code",
   "execution_count": 11,
   "metadata": {
    "collapsed": false,
    "scrolled": true
   },
   "outputs": [],
   "source": [
    "from sklearn import feature_extraction\n",
    "tf_idf = TfidfVectorizer(preprocessor=clean_word, use_idf=True)\n",
    "tf_idf_data = tf_idf.fit_transform(twenty_train.data)\n"
   ]
  },
  {
   "cell_type": "code",
   "execution_count": 12,
   "metadata": {
    "collapsed": false
   },
   "outputs": [
    {
     "name": "stdout",
     "output_type": "stream",
     "text": [
      "(11314, 37655)\n"
     ]
    }
   ],
   "source": [
    "print tf_idf_data.shape"
   ]
  },
  {
   "cell_type": "markdown",
   "metadata": {},
   "source": [
    "### Problem (c)"
   ]
  },
  {
   "cell_type": "code",
   "execution_count": 13,
   "metadata": {
    "collapsed": false
   },
   "outputs": [],
   "source": [
    "index = list()\n",
    "length = list()\n",
    "data = list()\n",
    "for j in range(20):\n",
    "    index_temp = list()\n",
    "    index_temp.append(list(np.where(twenty_train.target == j))[0])\n",
    "    index.append(index_temp)\n",
    "    data_temp = list()\n",
    "    for i in index[j][0]:\n",
    "        data_temp.append(twenty_train.data[i])\n",
    "    data.append(data_temp)\n",
    "    length.append(len(data_temp))"
   ]
  },
  {
   "cell_type": "code",
   "execution_count": 14,
   "metadata": {
    "collapsed": false
   },
   "outputs": [],
   "source": [
    "from sklearn.feature_extraction.text import CountVectorizer\n",
    "from sklearn.feature_extraction.text import TfidfTransformer\n",
    "data_icf = list()\n",
    "for j in range(20):\n",
    "    data_cl = \"\"\n",
    "    for i in range(len(data[j])):\n",
    "        data_cl = data_cl + \" \" + data[j][i]\n",
    "    data_icf.append(data_cl)\n"
   ]
  },
  {
   "cell_type": "code",
   "execution_count": 15,
   "metadata": {
    "collapsed": true
   },
   "outputs": [],
   "source": [
    "tf_icf = TfidfVectorizer(preprocessor=clean_word, use_idf=True)\n",
    "tf_icf_data = tf_icf.fit_transform(data_icf[:])"
   ]
  },
  {
   "cell_type": "code",
   "execution_count": 16,
   "metadata": {
    "collapsed": true
   },
   "outputs": [],
   "source": [
    "def max_feature(x,tf_icf):\n",
    "    ibm_s = sorted(x)\n",
    "    ibm_s = ibm_s[-10:]\n",
    "    ibm_index = list()\n",
    "    for j in range(len(x)):\n",
    "        if x[j] in ibm_s:\n",
    "            ibm_index.append(j)\n",
    "    ibm_features = list()\n",
    "    for j in ibm_index:\n",
    "        ibm_features.append(tf_icf.get_feature_names()[j])\n",
    "    print(ibm_features)\n"
   ]
  },
  {
   "cell_type": "code",
   "execution_count": 17,
   "metadata": {
    "collapsed": false
   },
   "outputs": [
    {
     "name": "stdout",
     "output_type": "stream",
     "text": [
      "[u'bio', u'card', u'control', u'disk', u'doe', u'driv', u'id', u'problem', u'scsi', u'us']\n",
      "[u'appl', u'doe', u'driv', u'duo', u'mac', u'monit', u'problem', u'scsi', u'us', u'work']\n",
      "[u'dos', u'gam', u'includ', u'new', u'off', u'pric', u'sal', u'sel', u'ship', u'us']\n",
      "[u'believ', u'bibl', u'christ', u'christians', u'church', u'god', u'jes', u'peopl', u'say', u'think']\n"
     ]
    }
   ],
   "source": [
    "ibm_li = tf_icf_data.toarray()[3]\n",
    "mac_li = tf_icf_data.toarray()[4]\n",
    "forsale_li = tf_icf_data.toarray()[6]\n",
    "christian_li = tf_icf_data.toarray()[15]\n",
    "max_feature(ibm_li,tf_icf)\n",
    "max_feature(mac_li,tf_icf)\n",
    "max_feature(forsale_li,tf_icf)\n",
    "max_feature(christian_li,tf_icf)"
   ]
  },
  {
   "cell_type": "markdown",
   "metadata": {},
   "source": [
    "### Problem (d)"
   ]
  },
  {
   "cell_type": "code",
   "execution_count": 18,
   "metadata": {
    "collapsed": false
   },
   "outputs": [
    {
     "name": "stdout",
     "output_type": "stream",
     "text": [
      "(11314L, 50L)\n"
     ]
    }
   ],
   "source": [
    "from sklearn.decomposition import TruncatedSVD\n",
    "from sklearn.preprocessing import Normalizer\n",
    "from sklearn.pipeline import make_pipeline\n",
    "\n",
    "tsv = TruncatedSVD(n_components=50,algorithm='arpack')\n",
    "X_train_lsi = tsv.fit_transform(tf_idf_data)\n",
    "print (X_train_lsi.shape)\n"
   ]
  },
  {
   "cell_type": "markdown",
   "metadata": {},
   "source": [
    "### Problem (e)"
   ]
  },
  {
   "cell_type": "code",
   "execution_count": 19,
   "metadata": {
    "collapsed": false
   },
   "outputs": [],
   "source": [
    "import numpy as np\n",
    "categories = ['comp.graphics','comp.os.ms-windows.misc','comp.sys.ibm.pc.hardware','comp.sys.mac.hardware','rec.autos','rec.motorcycles','rec.sport.baseball','rec.sport.hockey']\n",
    "twenty_train = fetch_20newsgroups(subset='train', categories=categories, shuffle=True, random_state=42, remove = ('headers','footers','quotes'))\n",
    "twenty_test = fetch_20newsgroups(subset='test', categories=categories, shuffle=True, random_state=42, remove = ('headers','footers','quotes'))\n",
    "twenty_train_target = np.asarray([ int(x / 4) for x in twenty_train.target])\n",
    "twenty_test_target = np.asarray([ int(x / 4) for x in twenty_test.target])"
   ]
  },
  {
   "cell_type": "code",
   "execution_count": null,
   "metadata": {
    "collapsed": true
   },
   "outputs": [],
   "source": [
    "from sklearn.pipeline import Pipeline\n",
    "def pipelineSet(learning_algo):\n",
    "    tf_idf = TfidfVectorizer(preprocessor=clean_word, use_idf=True)\n",
    "    ls = TruncatedSVD(n_components=50, n_iter=5, random_state=25)\n",
    "    pipeline_list = [('tf_idf', tf_idf), ('svd', ls), ('learning_algo', learning_algo)]\n",
    "    pipeline = Pipeline(pipeline_list)\n",
    "    return pipeline\n"
   ]
  },
  {
   "cell_type": "code",
   "execution_count": null,
   "metadata": {
    "collapsed": false
   },
   "outputs": [],
   "source": [
    "from sklearn.svm import SVC\n",
    "svm = SVC(kernel='linear', probability=True, random_state=40, C=10**10)\n",
    "pipeline_svm = pipelineSet(svm) \n",
    "pipeline_svm_fitted = pipeline_svm.fit(twenty_train.data, twenty_train_target)\n",
    "predicted = pipeline_svm_fitted.predict(twenty_test.data)"
   ]
  },
  {
   "cell_type": "code",
   "execution_count": null,
   "metadata": {
    "collapsed": false
   },
   "outputs": [],
   "source": [
    "score =pipeline_svm_fitted.score(twenty_test.data, twenty_test_target)\n",
    "print score"
   ]
  },
  {
   "cell_type": "code",
   "execution_count": null,
   "metadata": {
    "collapsed": false
   },
   "outputs": [],
   "source": [
    "from sklearn.metrics import roc_curve, auc\n",
    "#y_score=clf.decision_function(X_test_lsi)\n",
    "y_score=pipeline_svm_fitted.predict_proba(twenty_test.data)[:, 1]\n",
    "fpr, tpr, _ = roc_curve(twenty_test_target, y_score)\n",
    "#average_precision = average_precision_score(twenty_test.target, y_score)\n",
    "roc_auc = auc(fpr, tpr)\n",
    "\n",
    "plt.figure()\n",
    "plt.plot(fpr, tpr, label='ROC curve (area = %0.2f)' % roc_auc)\n",
    "plt.plot([0, 1], [0, 1], 'k--')\n",
    "plt.xlim([0.0, 1.0])\n",
    "plt.ylim([0.0, 1.0])\n",
    "plt.xlabel('False Positive Rate')\n",
    "plt.ylabel('True Positive Rate')\n",
    "plt.title('Receiver Operating Characteristic Curve')\n",
    "plt.legend(loc=\"lower right\")\n",
    "plt.show()"
   ]
  },
  {
   "cell_type": "markdown",
   "metadata": {},
   "source": [
    "##### Confusion matrix. [Reference Link](http://scikit-learn.org/stable/modules/generated/sklearn.metrics.confusion_matrix.html)"
   ]
  },
  {
   "cell_type": "code",
   "execution_count": null,
   "metadata": {
    "collapsed": false
   },
   "outputs": [],
   "source": [
    "from sklearn.metrics import confusion_matrix\n",
    "y_true = twenty_test_target\n",
    "y_pred = predicted\n",
    "print confusion_matrix(y_true, y_pred)"
   ]
  },
  {
   "cell_type": "markdown",
   "metadata": {},
   "source": [
    "##### Accuracy [Reference Link](http://scikit-learn.org/stable/modules/generated/sklearn.metrics.accuracy_score.html)"
   ]
  },
  {
   "cell_type": "code",
   "execution_count": null,
   "metadata": {
    "collapsed": false
   },
   "outputs": [],
   "source": [
    "from sklearn.metrics import accuracy_score\n",
    "y_true = twenty_test_target\n",
    "y_pred = predicted\n",
    "print accuracy_score(y_true, y_pred)"
   ]
  },
  {
   "cell_type": "markdown",
   "metadata": {},
   "source": [
    "##### Precision [Reference Link](http://scikit-learn.org/stable/modules/generated/sklearn.metrics.precision_score.html#sklearn.metrics.precision_score)"
   ]
  },
  {
   "cell_type": "code",
   "execution_count": null,
   "metadata": {
    "collapsed": false
   },
   "outputs": [],
   "source": [
    "from sklearn.metrics import precision_score\n",
    "y_true = twenty_test_target\n",
    "y_pred = predicted\n",
    "precision_score(y_true, y_pred)  "
   ]
  },
  {
   "cell_type": "markdown",
   "metadata": {},
   "source": [
    "##### Recall [Reference Link](http://scikit-learn.org/stable/modules/generated/sklearn.metrics.recall_score.html)"
   ]
  },
  {
   "cell_type": "code",
   "execution_count": null,
   "metadata": {
    "collapsed": false
   },
   "outputs": [],
   "source": [
    "from sklearn.metrics import recall_score\n",
    "y_true = twenty_test_target\n",
    "y_pred = predicted\n",
    "recall_score(y_true, y_pred) "
   ]
  },
  {
   "cell_type": "markdown",
   "metadata": {},
   "source": [
    "##### Recall and precision of your classifier. [Reference Link](http://scikit-learn.org/stable/auto_examples/model_selection/plot_precision_recall.html)"
   ]
  },
  {
   "cell_type": "markdown",
   "metadata": {},
   "source": [
    "### Problem (f)"
   ]
  },
  {
   "cell_type": "code",
   "execution_count": null,
   "metadata": {
    "collapsed": false
   },
   "outputs": [],
   "source": [
    "from sklearn.cross_validation import KFold\n",
    "kf = KFold(n=len(twenty_train_target), n_folds=5, shuffle=False, random_state=None)\n",
    "#twenty_train_data = data_process(twenty_train)\n",
    "#twenty_test_data = data_process(twenty_test)\n",
    "l = [[0]*7 for i in range(5)]\n",
    "i=0\n",
    "j=0\n",
    "for train_index, test_index in kf:\n",
    "    X_train_soft=[]\n",
    "    for index in train_index:\n",
    "        X_train_soft.append(twenty_train.data[index])\n",
    "    X_test_soft=[]\n",
    "    for index1 in test_index:\n",
    "        X_test_soft.append(twenty_train.data[index1])\n",
    "    \n",
    "    for k in [-3, -2, -1, 0, 1, 2, 3]:\n",
    "        target_train = np.asarray([ int(x / 4) for x in twenty_train.target[train_index]])\n",
    "        target_test =np.asarray([ int(x / 4) for x in twenty_train.target[test_index]])\n",
    "        \n",
    "        ssvm = SVC(C=10**k, kernel='linear', probability=True, random_state=40)\n",
    "        pipeline_svm = pipelineSet(ssvm) \n",
    "        pipeline_svm_fitted = pipeline_svm.fit(X_train_soft, target_train)\n",
    "        score =pipeline_svm_fitted.score(X_test_soft, target_test)\n",
    "\n",
    "        #clf_soft = SVC(C=10**k).fit(X_train_soft, target_train)\n",
    "        #score = clf_soft.score(X_test_soft, target_test)\n",
    "\n",
    "        l[i][j]=score\n",
    "        j=j+1\n",
    "    i=i+1\n",
    "    j=0\n"
   ]
  },
  {
   "cell_type": "code",
   "execution_count": null,
   "metadata": {
    "collapsed": false
   },
   "outputs": [],
   "source": [
    "average_s = list(map(lambda x: (x[0]+x[1]+x[2]+x[3]+x[4])/5, zip(l[0], l[1], l[2], l[3], l[4])))\n",
    "value = max(average_s)\n",
    "index=average_s.index(value)\n",
    "penalty = [-3, -2, -1, 0, 1, 2, 3]\n",
    "print ('The best penalty value is',10**penalty[index])"
   ]
  },
  {
   "cell_type": "code",
   "execution_count": null,
   "metadata": {
    "collapsed": false
   },
   "outputs": [],
   "source": [
    "ssvm = SVC(C=10**penalty[index], kernel='linear', probability=True, random_state=40)\n",
    "pipeline_svm = pipelineSet(ssvm) \n",
    "pipeline_svm_fitted = pipeline_svm.fit(twenty_train.data, twenty_train_target)\n",
    "s =pipeline_svm_fitted.score(twenty_test.data, twenty_test_target)\n",
    "predicted_soft_pre = pipeline_svm_fitted.predict(twenty_test.data)\n",
    "print s"
   ]
  },
  {
   "cell_type": "markdown",
   "metadata": {},
   "source": [
    "##### Confusion matrix. [Reference Link](http://scikit-learn.org/stable/modules/generated/sklearn.metrics.confusion_matrix.html)"
   ]
  },
  {
   "cell_type": "code",
   "execution_count": null,
   "metadata": {
    "collapsed": false
   },
   "outputs": [],
   "source": [
    "from sklearn.metrics import confusion_matrix\n",
    "y_true = twenty_test_target\n",
    "y_pred = predicted_soft_pre\n",
    "print confusion_matrix(y_true, y_pred)"
   ]
  },
  {
   "cell_type": "code",
   "execution_count": null,
   "metadata": {
    "collapsed": false
   },
   "outputs": [],
   "source": [
    "from sklearn.metrics import roc_curve, auc\n",
    "#y_score=clf_soft_pre.decision_function(twenty_test_data)\n",
    "y_score=pipeline_svm_fitted.predict_proba(twenty_test.data)[:, 1]\n",
    "fpr, tpr, _ = roc_curve(twenty_test_target, y_score)\n",
    "roc_auc = auc(fpr, tpr)\n",
    "\n",
    "plt.figure()\n",
    "plt.plot(fpr, tpr, label='ROC curve (area = %0.2f)' % roc_auc)\n",
    "plt.plot([0, 1], [0, 1], 'k--')\n",
    "plt.xlim([0.0, 1.0])\n",
    "plt.ylim([0.0, 1.0])\n",
    "plt.xlabel('False Positive Rate')\n",
    "plt.ylabel('True Positive Rate')\n",
    "plt.title('Receiver Operating Characteristic Curve')\n",
    "plt.legend(loc=\"lower right\")\n",
    "plt.show()"
   ]
  },
  {
   "cell_type": "markdown",
   "metadata": {},
   "source": [
    "##### Accuracy [Reference Link](http://scikit-learn.org/stable/modules/generated/sklearn.metrics.accuracy_score.html)"
   ]
  },
  {
   "cell_type": "code",
   "execution_count": null,
   "metadata": {
    "collapsed": false
   },
   "outputs": [],
   "source": [
    "from sklearn.metrics import accuracy_score\n",
    "y_true = twenty_test_target\n",
    "y_pred = predicted_soft_pre\n",
    "print accuracy_score(y_true, y_pred)"
   ]
  },
  {
   "cell_type": "markdown",
   "metadata": {},
   "source": [
    "##### Precision [Reference Link](http://scikit-learn.org/stable/modules/generated/sklearn.metrics.precision_score.html#sklearn.metrics.precision_score)"
   ]
  },
  {
   "cell_type": "code",
   "execution_count": null,
   "metadata": {
    "collapsed": false
   },
   "outputs": [],
   "source": [
    "from sklearn.metrics import precision_score\n",
    "y_true = twenty_test_target\n",
    "y_pred = predicted_soft_pre\n",
    "precision_score(y_true, y_pred)  "
   ]
  },
  {
   "cell_type": "markdown",
   "metadata": {},
   "source": [
    "##### Recall [Reference Link](http://scikit-learn.org/stable/modules/generated/sklearn.metrics.recall_score.html)"
   ]
  },
  {
   "cell_type": "code",
   "execution_count": null,
   "metadata": {
    "collapsed": false
   },
   "outputs": [],
   "source": [
    "from sklearn.metrics import recall_score\n",
    "y_true = twenty_test_target\n",
    "y_pred = predicted_soft_pre\n",
    "recall_score(y_true, y_pred) "
   ]
  },
  {
   "cell_type": "markdown",
   "metadata": {},
   "source": [
    "##### Recall and precision of your classifier. [Reference Link](http://scikit-learn.org/stable/auto_examples/model_selection/plot_precision_recall.html)"
   ]
  },
  {
   "cell_type": "markdown",
   "metadata": {},
   "source": [
    "### Problem (g)"
   ]
  },
  {
   "cell_type": "markdown",
   "metadata": {},
   "source": [
    "##### Naïve Bayes Algorithm [Reference Link](http://scikit-learn.org/stable/modules/generated/sklearn.naive_bayes.GaussianNB.html)"
   ]
  },
  {
   "cell_type": "code",
   "execution_count": null,
   "metadata": {
    "collapsed": true
   },
   "outputs": [],
   "source": [
    "from sklearn.naive_bayes import GaussianNB\n",
    "clf_naive_bayes = GaussianNB().fit(X_train_lsi, twenty_train_target)"
   ]
  },
  {
   "cell_type": "code",
   "execution_count": null,
   "metadata": {
    "collapsed": true
   },
   "outputs": [],
   "source": [
    "pipeline_svm = pipelineSet(GaussianNB()) \n",
    "pipeline_svm_fitted = pipeline_svm.fit(twenty_train.data, twenty_train_target)\n",
    "score =pipeline_svm_fitted.score(twenty_test.data, twenty_test_target)\n",
    "predicted = pipeline_svm_fitted.predict(twenty_test.data)\n",
    "print score"
   ]
  },
  {
   "cell_type": "markdown",
   "metadata": {},
   "source": [
    "##### ROC curve [Reference Link](http://scikit-learn.org/stable/modules/generated/sklearn.metrics.roc_curve.html)"
   ]
  },
  {
   "cell_type": "code",
   "execution_count": null,
   "metadata": {
    "collapsed": false
   },
   "outputs": [],
   "source": [
    "from sklearn.metrics import roc_curve, auc\n",
    "#y_score=clf_naive_bayes.predict_proba(X_test_lsi)[:, 1]\n",
    "y_score=pipeline_svm_fitted.predict_proba(twenty_test.data)[:, 1]\n",
    "\n",
    "fpr, tpr, _ = roc_curve(twenty_test_target, y_score)\n",
    "roc_auc = auc(fpr, tpr)\n",
    "\n",
    "plt.figure()\n",
    "plt.plot(fpr, tpr, label='ROC curve (area = %0.2f)' % roc_auc)\n",
    "plt.plot([0, 1], [0, 1], 'k--')\n",
    "plt.xlim([0.0, 1.0])\n",
    "plt.ylim([0.0, 1.0])\n",
    "plt.xlabel('False Positive Rate')\n",
    "plt.ylabel('True Positive Rate')\n",
    "plt.title('Receiver Operating Characteristic Curve')\n",
    "plt.legend(loc=\"lower right\")\n",
    "plt.show()"
   ]
  },
  {
   "cell_type": "markdown",
   "metadata": {},
   "source": [
    "##### Confusion matrix. [Reference Link](http://scikit-learn.org/stable/modules/generated/sklearn.metrics.confusion_matrix.html)"
   ]
  },
  {
   "cell_type": "code",
   "execution_count": null,
   "metadata": {
    "collapsed": false
   },
   "outputs": [],
   "source": [
    "from sklearn.metrics import confusion_matrix\n",
    "y_true = twenty_test_target\n",
    "y_pred = predicted\n",
    "print confusion_matrix(y_true, y_pred)"
   ]
  },
  {
   "cell_type": "markdown",
   "metadata": {},
   "source": [
    "##### Accuracy [Reference Link](http://scikit-learn.org/stable/modules/generated/sklearn.metrics.accuracy_score.html)"
   ]
  },
  {
   "cell_type": "code",
   "execution_count": null,
   "metadata": {
    "collapsed": false
   },
   "outputs": [],
   "source": [
    "from sklearn.metrics import accuracy_score\n",
    "y_true = twenty_test_target\n",
    "y_pred = predicted\n",
    "print accuracy_score(y_true, y_pred)"
   ]
  },
  {
   "cell_type": "markdown",
   "metadata": {},
   "source": [
    "##### Precision [Reference Link](http://scikit-learn.org/stable/modules/generated/sklearn.metrics.precision_score.html#sklearn.metrics.precision_score)"
   ]
  },
  {
   "cell_type": "code",
   "execution_count": null,
   "metadata": {
    "collapsed": false
   },
   "outputs": [],
   "source": [
    "from sklearn.metrics import precision_score\n",
    "y_true = twenty_test_target\n",
    "y_pred = predicted\n",
    "precision_score(y_true, y_pred)  "
   ]
  },
  {
   "cell_type": "markdown",
   "metadata": {},
   "source": [
    "##### Recall [Reference Link](http://scikit-learn.org/stable/modules/generated/sklearn.metrics.recall_score.html)"
   ]
  },
  {
   "cell_type": "code",
   "execution_count": null,
   "metadata": {
    "collapsed": false
   },
   "outputs": [],
   "source": [
    "from sklearn.metrics import recall_score\n",
    "y_true = twenty_test_target\n",
    "y_pred = predicted\n",
    "recall_score(y_true, y_pred) "
   ]
  },
  {
   "cell_type": "markdown",
   "metadata": {},
   "source": [
    "##### Recall and precision of your classifier. [Reference Link](http://scikit-learn.org/stable/auto_examples/model_selection/plot_precision_recall.html)"
   ]
  },
  {
   "cell_type": "markdown",
   "metadata": {},
   "source": [
    "### Problem (h)"
   ]
  },
  {
   "cell_type": "markdown",
   "metadata": {},
   "source": [
    "###### logistic regression [Reference Link](http://scikit-learn.org/stable/modules/generated/sklearn.linear_model.LogisticRegression.html)"
   ]
  },
  {
   "cell_type": "code",
   "execution_count": null,
   "metadata": {
    "collapsed": true
   },
   "outputs": [],
   "source": [
    "from sklearn.linear_model import LogisticRegression\n",
    "clf_logistic_regression = LogisticRegression().fit(X_train_lsi, twenty_train_target)"
   ]
  },
  {
   "cell_type": "code",
   "execution_count": null,
   "metadata": {
    "collapsed": true
   },
   "outputs": [],
   "source": [
    "pipeline_svm = pipelineSet(LogisticRegression(penalty='l2', max_iter=5, random_state=40)) \n",
    "pipeline_svm_fitted = pipeline_svm.fit(twenty_train.data, twenty_train_target)\n",
    "score =pipeline_svm_fitted.score(twenty_test.data, twenty_test_target)\n",
    "predicted = pipeline_svm_fitted.predict(twenty_test.data)"
   ]
  },
  {
   "cell_type": "code",
   "execution_count": null,
   "metadata": {
    "collapsed": false
   },
   "outputs": [],
   "source": [
    "#X_test_lsi = data_process(twenty_test)\n",
    "#predicted = clf_logistic_regression.predict(X_test_lsi)\n",
    "#print predicted.shape\n",
    "#score = clf_logistic_regression.score(X_test_lsi, twenty_test_target)\n",
    "print score"
   ]
  },
  {
   "cell_type": "markdown",
   "metadata": {},
   "source": [
    "##### ROC curve [Reference Link](http://scikit-learn.org/stable/modules/generated/sklearn.metrics.roc_curve.html)"
   ]
  },
  {
   "cell_type": "code",
   "execution_count": null,
   "metadata": {
    "collapsed": false
   },
   "outputs": [],
   "source": [
    "from sklearn.metrics import roc_curve, auc\n",
    "y_score=clf_logistic_regression.predict_proba(X_test_lsi)[:, 1]\n",
    "y_score=pipeline_svm_fitted.predict_proba(twenty_test.data)[:, 1]\n",
    "\n",
    "fpr, tpr, _ = roc_curve(twenty_test_target, y_score)\n",
    "roc_auc = auc(fpr, tpr)\n",
    "\n",
    "plt.figure()\n",
    "plt.plot(fpr, tpr, label='ROC curve (area = %0.2f)' % roc_auc)\n",
    "plt.plot([0, 1], [0, 1], 'k--')\n",
    "plt.xlim([0.0, 1.0])\n",
    "plt.ylim([0.0, 1.0])\n",
    "plt.xlabel('False Positive Rate')\n",
    "plt.ylabel('True Positive Rate')\n",
    "plt.title('Receiver Operating Characteristic Curve')\n",
    "plt.legend(loc=\"lower right\")\n",
    "plt.show()"
   ]
  },
  {
   "cell_type": "markdown",
   "metadata": {},
   "source": [
    "##### Confusion matrix. [Reference Link](http://scikit-learn.org/stable/modules/generated/sklearn.metrics.confusion_matrix.html)"
   ]
  },
  {
   "cell_type": "code",
   "execution_count": null,
   "metadata": {
    "collapsed": false
   },
   "outputs": [],
   "source": [
    "from sklearn.metrics import confusion_matrix\n",
    "y_true = twenty_test_target\n",
    "y_pred = predicted\n",
    "print confusion_matrix(y_true, y_pred)"
   ]
  },
  {
   "cell_type": "markdown",
   "metadata": {},
   "source": [
    "##### Accuracy [Reference Link](http://scikit-learn.org/stable/modules/generated/sklearn.metrics.accuracy_score.html)"
   ]
  },
  {
   "cell_type": "code",
   "execution_count": null,
   "metadata": {
    "collapsed": false
   },
   "outputs": [],
   "source": [
    "from sklearn.metrics import accuracy_score\n",
    "y_true = twenty_test_target\n",
    "y_pred = predicted\n",
    "print accuracy_score(y_true, y_pred)"
   ]
  },
  {
   "cell_type": "markdown",
   "metadata": {},
   "source": [
    "##### Precision [Reference Link](http://scikit-learn.org/stable/modules/generated/sklearn.metrics.precision_score.html#sklearn.metrics.precision_score)"
   ]
  },
  {
   "cell_type": "code",
   "execution_count": null,
   "metadata": {
    "collapsed": false
   },
   "outputs": [],
   "source": [
    "from sklearn.metrics import precision_score\n",
    "y_true = twenty_test_target\n",
    "y_pred = predicted\n",
    "precision_score(y_true, y_pred)  "
   ]
  },
  {
   "cell_type": "markdown",
   "metadata": {},
   "source": [
    "##### Recall [Reference Link](http://scikit-learn.org/stable/modules/generated/sklearn.metrics.recall_score.html)"
   ]
  },
  {
   "cell_type": "code",
   "execution_count": null,
   "metadata": {
    "collapsed": false
   },
   "outputs": [],
   "source": [
    "from sklearn.metrics import recall_score\n",
    "y_true = twenty_test_target\n",
    "y_pred = predicted\n",
    "recall_score(y_true, y_pred) "
   ]
  },
  {
   "cell_type": "markdown",
   "metadata": {},
   "source": [
    "### Problem (i)"
   ]
  },
  {
   "cell_type": "code",
   "execution_count": null,
   "metadata": {
    "collapsed": false
   },
   "outputs": [],
   "source": [
    "from sklearn.multiclass import OneVsRestClassifier\n",
    "from sklearn.multiclass import OneVsOneClassifier\n",
    "from sklearn.svm import LinearSVC\n",
    "from sklearn.svm import SVC\n",
    "from sklearn import metrics\n",
    "#590,578,\n",
    "categories_i = ['comp.sys.ibm.pc.hardware','comp.sys.mac.hardware','misc.forsale','soc.religion.christian']\n",
    "twenty_train_i = fetch_20newsgroups(subset='train', categories=categories_i, shuffle=True, random_state=6, remove = ('headers','footers','quotes'))\n",
    "twenty_test_i = fetch_20newsgroups(subset='test', categories=categories_i, shuffle=True, random_state=6, remove = ('headers','footers','quotes'))\n",
    "twenty_train_i_target = twenty_train_i.target"
   ]
  },
  {
   "cell_type": "code",
   "execution_count": null,
   "metadata": {
    "collapsed": false
   },
   "outputs": [],
   "source": [
    "#from sklearn.preprocessing import label_binarize\n",
    "#y = twenty_train_i.target\n",
    "#y = label_binarize(y, classes=[0, 1, 2, 3])\n",
    "#n_classes = y.shape[1]\n",
    "#print n_classes\n",
    "#y_test = twenty_test_i.target\n",
    "#y_test = label_binarize(y_test, classes=[0, 1, 2, 3])"
   ]
  },
  {
   "cell_type": "markdown",
   "metadata": {},
   "source": [
    "##### One VS Rest"
   ]
  },
  {
   "cell_type": "code",
   "execution_count": null,
   "metadata": {
    "collapsed": false
   },
   "outputs": [],
   "source": [
    "svm_onerest = OneVsRestClassifier(SVC(kernel='linear', probability=True))\n",
    "pipeline_svm_onerest = pipelineSet(svm_onerest)\n",
    "pipeline_svm_fitted = pipeline_svm_onerest.fit(twenty_train_i.data, twenty_train_i.target)\n",
    "predict_i = pipeline_svm_fitted.predict(twenty_test_i.data)\n",
    "score = pipeline_svm_fitted.score(twenty_test_i.data, twenty_test_i.target)\n",
    "print score"
   ]
  },
  {
   "cell_type": "code",
   "execution_count": null,
   "metadata": {
    "collapsed": false
   },
   "outputs": [],
   "source": [
    "print precision_score(twenty_test_i.target, predict_i,average='weighted')  \n",
    "print recall_score(twenty_test_i.target, predict_i,average='weighted') \n",
    "print accuracy_score(twenty_test_i.target, predict_i)\n",
    "print confusion_matrix(twenty_test_i.target, predict_i)"
   ]
  },
  {
   "cell_type": "markdown",
   "metadata": {},
   "source": [
    "##### One VS One"
   ]
  },
  {
   "cell_type": "code",
   "execution_count": null,
   "metadata": {
    "collapsed": false
   },
   "outputs": [],
   "source": [
    "svm_oneone = OneVsOneClassifier(SVC(kernel='linear', probability=True))\n",
    "pipeline_svm_onerest = pipelineSet(svm_oneone)\n",
    "pipeline_svm_fitted = pipeline_svm_onerest.fit(twenty_train_i.data, twenty_train_i.target)\n",
    "predict_i = pipeline_svm_fitted.predict(twenty_test_i.data)\n",
    "score = pipeline_svm_fitted.score(twenty_test_i.data, twenty_test_i.target)\n",
    "print score"
   ]
  },
  {
   "cell_type": "code",
   "execution_count": null,
   "metadata": {
    "collapsed": false
   },
   "outputs": [],
   "source": [
    "print precision_score(twenty_test_i.target, predict_i,average='weighted')  \n",
    "print recall_score(twenty_test_i.target, predict_i, average='weighted') \n",
    "print accuracy_score(twenty_test_i.target, predict_i)\n",
    "print confusion_matrix(twenty_test_i.target, predict_i)"
   ]
  },
  {
   "cell_type": "markdown",
   "metadata": {},
   "source": [
    "##### Naive bayes"
   ]
  },
  {
   "cell_type": "code",
   "execution_count": null,
   "metadata": {
    "collapsed": false
   },
   "outputs": [],
   "source": [
    "pipeline_svm = pipelineSet(GaussianNB()) \n",
    "pipeline_svm_fitted = pipeline_svm.fit(twenty_train_i.data, twenty_train_i.target)\n",
    "score =pipeline_svm_fitted.score(twenty_test_i.data, twenty_test_i.target)\n",
    "predicted = pipeline_svm_fitted.predict(twenty_test_i.data)\n",
    "\n",
    "print precision_score(twenty_test_i.target, predicted,average='weighted')  \n",
    "print recall_score(twenty_test_i.target, predicted,average='weighted') \n",
    "print accuracy_score(twenty_test_i.target, predicted)\n",
    "print confusion_matrix(twenty_test_i.target, predicted)"
   ]
  },
  {
   "cell_type": "code",
   "execution_count": null,
   "metadata": {
    "collapsed": true
   },
   "outputs": [],
   "source": []
  },
  {
   "cell_type": "code",
   "execution_count": null,
   "metadata": {
    "collapsed": true
   },
   "outputs": [],
   "source": []
  }
 ],
 "metadata": {
  "kernelspec": {
   "display_name": "Python 2",
   "language": "python",
   "name": "python2"
  },
  "language_info": {
   "codemirror_mode": {
    "name": "ipython",
    "version": 2
   },
   "file_extension": ".py",
   "mimetype": "text/x-python",
   "name": "python",
   "nbconvert_exporter": "python",
   "pygments_lexer": "ipython2",
   "version": "2.7.11"
  }
 },
 "nbformat": 4,
 "nbformat_minor": 0
}
